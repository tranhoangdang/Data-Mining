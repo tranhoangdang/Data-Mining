{
  "nbformat": 4,
  "nbformat_minor": 0,
  "metadata": {
    "colab": {
      "name": "51900771_51800850_51800855.ipynb",
      "provenance": [],
      "collapsed_sections": []
    },
    "kernelspec": {
      "name": "python3",
      "display_name": "Python 3"
    },
    "language_info": {
      "name": "python"
    }
  },
  "cells": [
    {
      "cell_type": "markdown",
      "metadata": {
        "id": "Ubh5ArY07O91"
      },
      "source": [
        "# **Đại học Tôn Đức Thắng**\n",
        "Khoa Công nghệ thông tin\n",
        "KHAI THÁC DỮ LIỆU VÀ KHAI PHÁ TRI THỨC - 505043\n",
        "---\n",
        "    Thành viên:\n",
        "      Nguyễn Sang Sinh - 51900771\n",
        "      Trần Hoàng Đăng - 51800850\n",
        "      Võ Thị Kiều Viễn Đông - 51800855"
      ]
    },
    {
      "cell_type": "markdown",
      "metadata": {
        "id": "ZrlPJlmD-p6X"
      },
      "source": [
        "## **1. The Eclat alogrithm**"
      ]
    },
    {
      "cell_type": "markdown",
      "metadata": {
        "id": "-f5FDQPf-30T"
      },
      "source": [
        "### Connect Google Drive & Import Libs"
      ]
    },
    {
      "cell_type": "code",
      "metadata": {
        "id": "evvPNijk_T7I"
      },
      "source": [
        "from google.colab import drive\n",
        "import numpy as np\n",
        "import pandas as pd\n",
        "import csv\n",
        "\n",
        "import requests\n",
        "from bs4 import BeautifulSoup\n",
        "import os\n",
        "import matplotlib.pyplot as plt"
      ],
      "execution_count": null,
      "outputs": []
    },
    {
      "cell_type": "code",
      "metadata": {
        "id": "l4rz4khB_bo3",
        "colab": {
          "base_uri": "https://localhost:8080/"
        },
        "outputId": "3c45b86e-20c2-4ba5-a1cb-1353088ae811"
      },
      "source": [
        "drive.mount ('/content/drive')"
      ],
      "execution_count": null,
      "outputs": [
        {
          "output_type": "stream",
          "name": "stdout",
          "text": [
            "Mounted at /content/drive\n"
          ]
        }
      ]
    },
    {
      "cell_type": "code",
      "metadata": {
        "id": "7Rz1_uzs_ddA",
        "colab": {
          "base_uri": "https://localhost:8080/"
        },
        "outputId": "c2c6b7f7-3f59-40a5-fd05-ef11b3a932fd"
      },
      "source": [
        "cd /content/drive/MyDrive/Massive Dataset Mining/Data"
      ],
      "execution_count": null,
      "outputs": [
        {
          "output_type": "stream",
          "name": "stdout",
          "text": [
            "/content/drive/MyDrive/Massive Dataset Mining/Data\n"
          ]
        }
      ]
    },
    {
      "cell_type": "markdown",
      "metadata": {
        "id": "jUbHI5fu_gpy"
      },
      "source": [
        "### Load Data"
      ]
    },
    {
      "cell_type": "code",
      "metadata": {
        "id": "Vs-Feb25_jmb"
      },
      "source": [
        "data = pd.read_csv('store_data.csv', header=None)"
      ],
      "execution_count": null,
      "outputs": []
    },
    {
      "cell_type": "code",
      "metadata": {
        "id": "ChwQ_vu3_kFT",
        "colab": {
          "base_uri": "https://localhost:8080/",
          "height": 255
        },
        "outputId": "959c9898-e13d-4cfc-cfe1-1990ce4e1a30"
      },
      "source": [
        "data.head()"
      ],
      "execution_count": null,
      "outputs": [
        {
          "output_type": "execute_result",
          "data": {
            "text/html": [
              "<div>\n",
              "<style scoped>\n",
              "    .dataframe tbody tr th:only-of-type {\n",
              "        vertical-align: middle;\n",
              "    }\n",
              "\n",
              "    .dataframe tbody tr th {\n",
              "        vertical-align: top;\n",
              "    }\n",
              "\n",
              "    .dataframe thead th {\n",
              "        text-align: right;\n",
              "    }\n",
              "</style>\n",
              "<table border=\"1\" class=\"dataframe\">\n",
              "  <thead>\n",
              "    <tr style=\"text-align: right;\">\n",
              "      <th></th>\n",
              "      <th>0</th>\n",
              "      <th>1</th>\n",
              "      <th>2</th>\n",
              "      <th>3</th>\n",
              "      <th>4</th>\n",
              "      <th>5</th>\n",
              "      <th>6</th>\n",
              "      <th>7</th>\n",
              "      <th>8</th>\n",
              "      <th>9</th>\n",
              "      <th>10</th>\n",
              "      <th>11</th>\n",
              "      <th>12</th>\n",
              "      <th>13</th>\n",
              "      <th>14</th>\n",
              "      <th>15</th>\n",
              "      <th>16</th>\n",
              "      <th>17</th>\n",
              "      <th>18</th>\n",
              "      <th>19</th>\n",
              "    </tr>\n",
              "  </thead>\n",
              "  <tbody>\n",
              "    <tr>\n",
              "      <th>0</th>\n",
              "      <td>shrimp</td>\n",
              "      <td>almonds</td>\n",
              "      <td>avocado</td>\n",
              "      <td>vegetables mix</td>\n",
              "      <td>green grapes</td>\n",
              "      <td>whole weat flour</td>\n",
              "      <td>yams</td>\n",
              "      <td>cottage cheese</td>\n",
              "      <td>energy drink</td>\n",
              "      <td>tomato juice</td>\n",
              "      <td>low fat yogurt</td>\n",
              "      <td>green tea</td>\n",
              "      <td>honey</td>\n",
              "      <td>salad</td>\n",
              "      <td>mineral water</td>\n",
              "      <td>salmon</td>\n",
              "      <td>antioxydant juice</td>\n",
              "      <td>frozen smoothie</td>\n",
              "      <td>spinach</td>\n",
              "      <td>olive oil</td>\n",
              "    </tr>\n",
              "    <tr>\n",
              "      <th>1</th>\n",
              "      <td>burgers</td>\n",
              "      <td>meatballs</td>\n",
              "      <td>eggs</td>\n",
              "      <td>NaN</td>\n",
              "      <td>NaN</td>\n",
              "      <td>NaN</td>\n",
              "      <td>NaN</td>\n",
              "      <td>NaN</td>\n",
              "      <td>NaN</td>\n",
              "      <td>NaN</td>\n",
              "      <td>NaN</td>\n",
              "      <td>NaN</td>\n",
              "      <td>NaN</td>\n",
              "      <td>NaN</td>\n",
              "      <td>NaN</td>\n",
              "      <td>NaN</td>\n",
              "      <td>NaN</td>\n",
              "      <td>NaN</td>\n",
              "      <td>NaN</td>\n",
              "      <td>NaN</td>\n",
              "    </tr>\n",
              "    <tr>\n",
              "      <th>2</th>\n",
              "      <td>chutney</td>\n",
              "      <td>NaN</td>\n",
              "      <td>NaN</td>\n",
              "      <td>NaN</td>\n",
              "      <td>NaN</td>\n",
              "      <td>NaN</td>\n",
              "      <td>NaN</td>\n",
              "      <td>NaN</td>\n",
              "      <td>NaN</td>\n",
              "      <td>NaN</td>\n",
              "      <td>NaN</td>\n",
              "      <td>NaN</td>\n",
              "      <td>NaN</td>\n",
              "      <td>NaN</td>\n",
              "      <td>NaN</td>\n",
              "      <td>NaN</td>\n",
              "      <td>NaN</td>\n",
              "      <td>NaN</td>\n",
              "      <td>NaN</td>\n",
              "      <td>NaN</td>\n",
              "    </tr>\n",
              "    <tr>\n",
              "      <th>3</th>\n",
              "      <td>turkey</td>\n",
              "      <td>avocado</td>\n",
              "      <td>NaN</td>\n",
              "      <td>NaN</td>\n",
              "      <td>NaN</td>\n",
              "      <td>NaN</td>\n",
              "      <td>NaN</td>\n",
              "      <td>NaN</td>\n",
              "      <td>NaN</td>\n",
              "      <td>NaN</td>\n",
              "      <td>NaN</td>\n",
              "      <td>NaN</td>\n",
              "      <td>NaN</td>\n",
              "      <td>NaN</td>\n",
              "      <td>NaN</td>\n",
              "      <td>NaN</td>\n",
              "      <td>NaN</td>\n",
              "      <td>NaN</td>\n",
              "      <td>NaN</td>\n",
              "      <td>NaN</td>\n",
              "    </tr>\n",
              "    <tr>\n",
              "      <th>4</th>\n",
              "      <td>mineral water</td>\n",
              "      <td>milk</td>\n",
              "      <td>energy bar</td>\n",
              "      <td>whole wheat rice</td>\n",
              "      <td>green tea</td>\n",
              "      <td>NaN</td>\n",
              "      <td>NaN</td>\n",
              "      <td>NaN</td>\n",
              "      <td>NaN</td>\n",
              "      <td>NaN</td>\n",
              "      <td>NaN</td>\n",
              "      <td>NaN</td>\n",
              "      <td>NaN</td>\n",
              "      <td>NaN</td>\n",
              "      <td>NaN</td>\n",
              "      <td>NaN</td>\n",
              "      <td>NaN</td>\n",
              "      <td>NaN</td>\n",
              "      <td>NaN</td>\n",
              "      <td>NaN</td>\n",
              "    </tr>\n",
              "  </tbody>\n",
              "</table>\n",
              "</div>"
            ],
            "text/plain": [
              "              0          1           2   ...               17       18         19\n",
              "0         shrimp    almonds     avocado  ...  frozen smoothie  spinach  olive oil\n",
              "1        burgers  meatballs        eggs  ...              NaN      NaN        NaN\n",
              "2        chutney        NaN         NaN  ...              NaN      NaN        NaN\n",
              "3         turkey    avocado         NaN  ...              NaN      NaN        NaN\n",
              "4  mineral water       milk  energy bar  ...              NaN      NaN        NaN\n",
              "\n",
              "[5 rows x 20 columns]"
            ]
          },
          "metadata": {},
          "execution_count": 66
        }
      ]
    },
    {
      "cell_type": "code",
      "metadata": {
        "id": "_OZjr8-z_nBQ"
      },
      "source": [
        "#Get data values to Eclat \n",
        "#Get 200 values\n",
        "data_test = data.values[500:700]"
      ],
      "execution_count": null,
      "outputs": []
    },
    {
      "cell_type": "code",
      "metadata": {
        "id": "2RRREEXT_ohG",
        "colab": {
          "base_uri": "https://localhost:8080/"
        },
        "outputId": "32258278-667e-4181-e2f1-d59d43f0a84c"
      },
      "source": [
        "#Data shape\n",
        "data_test.shape"
      ],
      "execution_count": null,
      "outputs": [
        {
          "output_type": "execute_result",
          "data": {
            "text/plain": [
              "(200, 20)"
            ]
          },
          "metadata": {},
          "execution_count": 70
        }
      ]
    },
    {
      "cell_type": "markdown",
      "metadata": {
        "id": "3RkSAOco_sEJ"
      },
      "source": [
        "### Data Processing for Eclat"
      ]
    },
    {
      "cell_type": "code",
      "metadata": {
        "id": "NYTwhol__qri"
      },
      "source": [
        "#Remove NaN data & Convert values to Array\n",
        "result = []\n",
        "temp = []\n",
        "for i in range(data_test.shape[0]):\n",
        "  for j in range(data_test.shape[1]):\n",
        "    if str(data_test[i,j]) != 'nan':\n",
        "      temp.append(str(data_test[i,j]))\n",
        "  result.append(temp)\n",
        "  temp = []"
      ],
      "execution_count": null,
      "outputs": []
    },
    {
      "cell_type": "code",
      "metadata": {
        "colab": {
          "base_uri": "https://localhost:8080/"
        },
        "id": "rcDJ0AcAvZyc",
        "outputId": "378d5cc2-304e-4381-c297-6c5efc8d9d5e"
      },
      "source": [
        "result[:10]"
      ],
      "execution_count": null,
      "outputs": [
        {
          "output_type": "execute_result",
          "data": {
            "text/plain": [
              "[['chicken', 'chocolate', 'cookies'],\n",
              " ['low fat yogurt'],\n",
              " ['eggs', 'cake', 'low fat yogurt'],\n",
              " ['shrimp',\n",
              "  'spaghetti',\n",
              "  'mineral water',\n",
              "  'soup',\n",
              "  'milk',\n",
              "  'bramble',\n",
              "  'frozen smoothie',\n",
              "  'cottage cheese'],\n",
              " ['mineral water', 'eggs', 'protein bar'],\n",
              " ['turkey', 'shrimp', 'meatballs', 'butter', 'eggs', 'salad', 'green tea'],\n",
              " ['fresh tuna',\n",
              "  'spaghetti',\n",
              "  'chocolate',\n",
              "  'olive oil',\n",
              "  'chicken',\n",
              "  'french fries'],\n",
              " ['turkey', 'shrimp', 'escalope', 'hot dogs'],\n",
              " ['burgers', 'pepper', 'soup', 'milk', 'pancakes', 'green tea'],\n",
              " ['pancakes']]"
            ]
          },
          "metadata": {},
          "execution_count": 72
        }
      ]
    },
    {
      "cell_type": "code",
      "metadata": {
        "id": "Kde5FNrF_vWD"
      },
      "source": [
        "#Get P 1-itemsets\n",
        "P = {}\n",
        "count_tid = 0\n",
        "for trans in result:\n",
        "  for item in trans:\n",
        "    if item in P:\n",
        "      P[item].append(count_tid) \n",
        "    else:\n",
        "      P[item] = [count_tid]\n",
        "  count_tid+=1"
      ],
      "execution_count": null,
      "outputs": []
    },
    {
      "cell_type": "code",
      "metadata": {
        "id": "spYipzvH_vq7",
        "colab": {
          "base_uri": "https://localhost:8080/"
        },
        "outputId": "11b81bdc-f43a-44af-f6b8-dfecc95a5458"
      },
      "source": [
        "#Print 10 itemset first\n",
        "count = 0\n",
        "for itemset in P.items():\n",
        "  if (count < 10):\n",
        "    print(itemset)\n",
        "    count += 1\n",
        "  else:\n",
        "    break"
      ],
      "execution_count": null,
      "outputs": [
        {
          "output_type": "stream",
          "name": "stdout",
          "text": [
            "('chicken', [0, 6, 18, 22, 24, 94, 110, 114, 147, 153, 158, 175, 179, 183, 190, 199])\n",
            "('chocolate', [0, 6, 15, 27, 38, 39, 45, 46, 48, 50, 51, 65, 66, 70, 74, 80, 97, 102, 103, 120, 121, 125, 127, 130, 131, 133, 137, 138, 146, 147, 155, 159, 171, 175, 180, 182, 188, 193, 194])\n",
            "('cookies', [0, 39, 41, 56, 59, 72, 81, 95, 98, 119, 124, 136, 152, 166, 176])\n",
            "('low fat yogurt', [1, 2, 11, 23, 38, 43, 53, 54, 55, 70, 84, 101, 108, 126, 138, 140, 143, 146, 154, 156, 161, 168, 179, 182, 195])\n",
            "('eggs', [2, 4, 5, 10, 11, 13, 17, 22, 24, 25, 29, 31, 34, 37, 41, 42, 47, 49, 55, 59, 60, 61, 62, 63, 65, 68, 69, 70, 71, 74, 77, 84, 89, 92, 95, 101, 105, 108, 110, 113, 122, 125, 126, 130, 133, 134, 140, 154, 156, 158, 161, 166, 173, 182, 188, 191, 196, 197, 198])\n",
            "('cake', [2, 18, 20, 22, 26, 48, 67, 68, 87, 129, 145, 146, 156, 173, 199])\n",
            "('shrimp', [3, 5, 7, 65, 110, 120, 133, 156, 159, 162, 164, 166, 175, 194, 197, 199])\n",
            "('spaghetti', [3, 6, 13, 24, 28, 40, 50, 52, 53, 74, 76, 82, 96, 100, 103, 109, 112, 114, 115, 116, 118, 128, 138, 155, 157, 161, 165, 175, 177, 178, 179, 182, 188])\n",
            "('mineral water', [3, 4, 10, 12, 17, 19, 21, 22, 23, 25, 28, 29, 38, 42, 44, 48, 50, 51, 53, 73, 74, 75, 82, 83, 100, 102, 106, 107, 113, 115, 116, 120, 121, 123, 130, 131, 134, 137, 140, 145, 146, 147, 148, 155, 156, 159, 161, 163, 164, 166, 169, 172, 173, 175, 176, 179, 180, 184, 188, 191, 195, 199])\n",
            "('soup', [3, 8, 14, 34, 36, 40, 44, 53, 65, 83, 93, 117, 120, 147, 154, 165, 166, 179, 194])\n"
          ]
        }
      ]
    },
    {
      "cell_type": "code",
      "metadata": {
        "id": "XtrkbQTQ_xTr"
      },
      "source": [
        "#Filtering itemset < minsup\n",
        "minsup = 3\n",
        "for key, value in list(P.items()):\n",
        "  if (len(value) < minsup):\n",
        "    del P[key]"
      ],
      "execution_count": null,
      "outputs": []
    },
    {
      "cell_type": "code",
      "metadata": {
        "id": "QWHoHYPo_z6Q",
        "colab": {
          "base_uri": "https://localhost:8080/"
        },
        "outputId": "4999e842-2a7e-47c0-a03e-079d3c04f9d4"
      },
      "source": [
        "#Print itemset after filtering\n",
        "P.items()"
      ],
      "execution_count": null,
      "outputs": [
        {
          "output_type": "execute_result",
          "data": {
            "text/plain": [
              "dict_items([('chicken', [0, 6, 18, 22, 24, 94, 110, 114, 147, 153, 158, 175, 179, 183, 190, 199]), ('chocolate', [0, 6, 15, 27, 38, 39, 45, 46, 48, 50, 51, 65, 66, 70, 74, 80, 97, 102, 103, 120, 121, 125, 127, 130, 131, 133, 137, 138, 146, 147, 155, 159, 171, 175, 180, 182, 188, 193, 194])"
            ]
          },
          "metadata": {},
          "execution_count": 76
        }
      ]
    },
    {
      "cell_type": "markdown",
      "metadata": {
        "id": "XAEzQSgN_8nr"
      },
      "source": [
        "### Eclat Algorithm"
      ]
    },
    {
      "cell_type": "code",
      "metadata": {
        "id": "bPMexop-_-LK"
      },
      "source": [
        "#Union function\n",
        "def Union_original(lst1, lst2):\n",
        "  if (type(lst1) == str):\n",
        "    lst = [lst1] + [lst2]\n",
        "  else:\n",
        "    lst = lst1 + lst2\n",
        "  return list(set(lst))"
      ],
      "execution_count": null,
      "outputs": []
    },
    {
      "cell_type": "code",
      "metadata": {
        "id": "wAjhOIre__Xv"
      },
      "source": [
        "#Intersection function\n",
        "def Intersection(lst1, lst2 ):\n",
        "    return [value for value in lst1 if value in lst2]"
      ],
      "execution_count": null,
      "outputs": []
    },
    {
      "cell_type": "code",
      "metadata": {
        "id": "dcJDgG69AAfY"
      },
      "source": [
        "#Eclat function\n",
        "def Eclat(P, minsup, F):\n",
        "  index_a = 1\n",
        "  for Xa, tXa in P.items():\n",
        "    index_b = 0\n",
        "    F.append([(Xa), tXa, len(tXa)])\n",
        "    Pa = {}\n",
        "    for Xb, tXb in P.items():\n",
        "      index_b += 1\n",
        "      if (index_b > index_a):\n",
        "        Xab = Union_original(Xa,Xb)\n",
        "        tXab = Intersection(tXa, tXb)\n",
        "        if (len(tXab) > minsup):\n",
        "          Pa[tuple(Xab)] = tXab\n",
        "    index_a += 1\n",
        "    if (len(Pa) != 0):\n",
        "      Eclat(Pa, minsup, F)\n",
        "  return F"
      ],
      "execution_count": null,
      "outputs": []
    },
    {
      "cell_type": "code",
      "metadata": {
        "id": "bKMc70fIABoR"
      },
      "source": [
        "F = [] #Initial F\n",
        "minsup = 2 #Initial minsup\n",
        "Associate_Itemset = Eclat(P,minsup,F)"
      ],
      "execution_count": null,
      "outputs": []
    },
    {
      "cell_type": "code",
      "metadata": {
        "id": "50aRlZm0ADXu",
        "colab": {
          "base_uri": "https://localhost:8080/"
        },
        "outputId": "80b98571-93ce-4aa0-f6cb-ab90cdf7cfb5"
      },
      "source": [
        "#Print result\n",
        "for i in Associate_Itemset:\n",
        "  print(i)"
      ],
      "execution_count": null,
      "outputs": [
        {
          "output_type": "stream",
          "name": "stdout",
          "text": [
            "['chicken', [0, 6, 18, 22, 24, 94, 110, 114, 147, 153, 158, 175, 179, 183, 190, 199], 16]\n",
            "[('chicken', 'chocolate'), [0, 6, 147, 175], 4]\n",
            "[('chicken', 'chocolate', 'olive oil'), [6, 147, 175], 3]\n",
            "[('eggs', 'chicken'), [22, 24, 110, 158], 4]\n",
            "[('chicken', 'cake'), [18, 22, 199], 3]\n",
            "[('chicken', 'shrimp'), [110, 175, 199], 3]\n",
            "[('chicken', 'shrimp', 'olive oil'), [110, 175, 199], 3]\n",
            "[('spaghetti', 'chicken'), [6, 24, 114, 175, 179], 5]\n",
            "[('mineral water', 'chicken'), [22, 147, 175, 179, 199], 5]\n",
            "[('mineral water', 'chicken', 'olive oil'), [147, 175, 199], 3]\n",
            "[('chicken', 'milk'), [22, 147, 153], 3]\n",
            "[('chicken', 'fresh tuna'), [6, 22, 199], 3]\n",
            "[('chicken', 'olive oil'), [6, 110, 147, 175, 183, 199], 6]\n",
            "[('chicken', 'french fries'), [6, 22, 175], 3]\n",
            "['chocolate', [0, 6, 15, 27, 38, 39, 45, 46, 48, 50, 51, 65, 66, 70, 74, 80, 97, 102, 103, 120, 121, 125, 127, 130, 131, 133, 137, 138, 146, 147, 155, 159, 171, 175, 180, 182, 188, 193, 194], 39]\n",
            "[('low fat yogurt', 'chocolate'), [38, 70, 138, 146, 182], 5]\n",
            "[('eggs', 'chocolate'), [65, 70, 74, 125, 130, 133, 182, 188], 8]\n",
            "[('spaghetti', 'eggs', 'chocolate'), [74, 182, 188], 3]\n",
            "[('mineral water', 'eggs', 'chocolate'), [74, 130, 188], 3]\n",
            "[('milk', 'eggs', 'chocolate'), [65, 133, 188], 3]\n",
            "[('chocolate', 'shrimp'), [65, 120, 133, 159, 175, 194], 6]\n",
            "[('mineral water', 'chocolate', 'shrimp'), [120, 159, 175], 3]\n",
            "[('soup', 'chocolate', 'shrimp'), [65, 120, 194], 3]\n",
            "[('milk', 'chocolate', 'shrimp'), [65, 120, 133], 3]\n",
            "[('spaghetti', 'chocolate'), [6, 50, 74, 103, 138, 155, 175, 182, 188], 9]\n",
            "[('spaghetti', 'mineral water', 'chocolate'), [50, 74, 155, 175, 188], 5]\n",
            "[('spaghetti', 'mineral water', 'green tea', 'chocolate'), [155, 175, 188], 3]\n",
            "[('spaghetti', 'mineral water', 'chocolate', 'herb & pepper'), [74, 155, 188], 3]\n",
            "[('spaghetti', 'green tea', 'chocolate'), [155, 175, 188], 3]\n",
            "[('spaghetti', 'chocolate', 'olive oil'), [6, 138, 175], 3]\n",
            "[('spaghetti', 'french fries', 'chocolate', 'olive oil'), [6, 138, 175], 3]\n",
            "[('spaghetti', 'french fries', 'chocolate'), [6, 138, 175], 3]\n",
            "[('spaghetti', 'chocolate', 'herb & pepper'), [74, 155, 188], 3]\n",
            "[('mineral water', 'chocolate'), [38, 48, 50, 51, 74, 102, 120, 121, 130, 131, 137, 146, 147, 155, 159, 175, 180, 188], 18]\n",
            "[('mineral water', 'milk', 'chocolate'), [120, 121, 147, 180, 188], 5]\n",
            "[('mineral water', 'green tea', 'chocolate'), [137, 155, 175, 188], 4]\n",
            "[('mineral water', 'green tea', 'ground beef', 'chocolate'), [137, 155, 188], 3]\n",
            "[('mineral water', 'chocolate', 'olive oil'), [131, 147, 175, 180], 4]\n",
            "[('mineral water', 'escalope', 'chocolate'), [102, 159, 188], 3]\n",
            "[('mineral water', 'pepper', 'chocolate'), [50, 51, 120], 3]\n",
            "[('mineral water', 'pancakes', 'chocolate'), [74, 102, 130, 155], 4]\n",
            "[('mineral water', 'pancakes', 'chocolate', 'herb & pepper'), [74, 102, 155], 3]\n",
            "[('mineral water', 'chocolate', 'french wine'), [155, 180, 188], 3]\n",
            "[('mineral water', 'ground beef', 'chocolate', 'french wine'), [155, 180, 188], 3]\n",
            "[('mineral water', 'ground beef', 'chocolate'), [137, 155, 180, 188], 4]\n",
            "[('mineral water', 'chocolate', 'herb & pepper'), [74, 102, 155, 188], 4]\n",
            "['avocado', [97, 121, 123, 153, 191], 5]\n",
            "['strawberries', [119, 148, 193], 3]\n"
          ]
        }
      ]
    },
    {
      "cell_type": "markdown",
      "metadata": {
        "id": "habUNLbAAIvY"
      },
      "source": [
        "## **2. Implement the crawling task**"
      ]
    },
    {
      "cell_type": "markdown",
      "metadata": {
        "id": "rJ1SlhLWHdIn"
      },
      "source": [
        "### Crawling data"
      ]
    },
    {
      "cell_type": "markdown",
      "metadata": {
        "id": "g4n5-uWtBpm2"
      },
      "source": [
        "Hàm **scrape_stock_symbols** dùng để crawl dữ liệu từ trang web cafef.vn. 3 thông số truyền vào bao gồm:\n",
        "  - name: mã chứng khoán của doanh nghiệp\n",
        "  - category: loại kết quả hoạt động kinh doanh của doanh nghiệp đó\n",
        "  - year: năm cần crawl để lấy dữ liệu\n",
        "Các dữ liệu cần crawl bao gồm các quý trong năm cần lấy sẽ được thêm vào list **quarter** và các thông số dữ liệu của năm đó sẽ được thêm vào list **data**."
      ]
    },
    {
      "cell_type": "code",
      "metadata": {
        "id": "DPJ3zJFbAc1S"
      },
      "source": [
        "def scrape_stock_symbols(name, category, year):\n",
        "    URL = 'https://s.cafef.vn/bao-cao-tai-chinh/'+name+'/'+category+'/'+year+'/4/0/0/ket-qua-hoat-dong-kinh-doanh-cong-ty-co-phan-tap-doan-hoa-phat.chn'\n",
        "    soup = BeautifulSoup(requests.get(URL).text, 'html.parser')\n",
        "    strQuarter = soup.find_all('table', attrs={'id':'tblGridData'})\n",
        "    strData = soup.find_all('table', attrs={'id':'tableContent'})\n",
        "  \n",
        "    for i in strQuarter:\n",
        "        cols = i.find_all('td', attrs={'class':'h_t'})\n",
        "        cols = [ele.text.strip() for ele in cols]\n",
        "        quarter.append([ele for ele in cols if ele])\n",
        "      \n",
        "    for i in strData:\n",
        "        cols = i.find_all('td', attrs={'class':'b_r_c'})\n",
        "        cols = [ele.text.strip() for ele in cols]\n",
        "        data.append([ele for ele in cols if ele])\n",
        "      \n",
        "    return (quarter, data)"
      ],
      "execution_count": null,
      "outputs": []
    },
    {
      "cell_type": "markdown",
      "metadata": {
        "id": "fFEsYc59C6OY"
      },
      "source": [
        "Hàm **data_to_csv** sẽ được dùng để chuyển đổi kết quả sang file csv. Thông số dữ liệu truyền vào bao gồm:\n",
        "  - quarter: các quý trong năm cần crawl\n",
        "  - data: dữ liệu kết quả kinh doanh\n",
        "  - year: năm cần crawl\n",
        "  - path: đường dẫn chưa file dữ liệu sau khi xử lý\n",
        "  - name: tên doanh nghiệp\n",
        "  - category: loại kết quả hoạt động kinh doanh"
      ]
    },
    {
      "cell_type": "code",
      "metadata": {
        "id": "TPv1UTU9AeSv"
      },
      "source": [
        "def data_to_csv(quarter, data, year, path, name, category):\n",
        "    quarter_len = 4\n",
        "    if (year == '2021'):\n",
        "        quarter_len = 3\n",
        "    data_output = []\n",
        "    data_row = []\n",
        "    for i in data[0]:\n",
        "        if ' ' in i:\n",
        "          if len(data_row) > 2:\n",
        "              data_output.append(data_row)\n",
        "          data_row = []\n",
        "          data_row.append(i)\n",
        "        else:\n",
        "            data_row.append(i)\n",
        "    with open(path + name + '-' + category + '-' + year + '.csv', 'w+', newline='', encoding='utf-8') as file:\n",
        "        writer = csv.writer(file)\n",
        "        writer.writerow(list(['Thông số']) + quarter[0][:quarter_len])\n",
        "        for i in data_output:\n",
        "            writer.writerow(i)"
      ],
      "execution_count": null,
      "outputs": []
    },
    {
      "cell_type": "markdown",
      "metadata": {
        "id": "MhSY-rfjD8kX"
      },
      "source": [
        "Để lấy được dữ liệu, người dùng cần truyền vào khoảng thời gian cần lấy dữ liệu bao gồm năm bắt đầu và năm kết thúc lần lượt qua các biến **startYear** và **endYear**.\n",
        "\n",
        "List **report** để chức các kết quả mà người dùng cần crawl. Trong đề tài này, chúng em cần crawl dữ liệu từ trang **Kết quả hoạt động kinh doanh** và **Cân đối kế toán** nên thông số truyền vào sẽ là **IncSta** và **BSheet**.\n",
        "**name** là tên doanh nghiệp\n",
        "\n",
        "Ví dụ:\n",
        "https://s.cafef.vn/bao-cao-tai-chinh/HPG/IncSta/2021/4/0/0/ket-qua-hoat-dong-kinh-doanh-cong-ty-co-phan-tap-doan-hoa-phat.chn sẽ lấy kết quả hoạt động kinh doanh từ doanh nghiệp HPG trong năm 2021.\n",
        "\n",
        "Sau khi có dữ liệu bao gồm tên doanh nghiệp, thể loại kết quả và năm thì dữ liệu sẽ được gửi đến các hàm **scarpe_stock_symbols** và **data_to_csv** để xử lý và in ra kết quả.\n"
      ]
    },
    {
      "cell_type": "code",
      "metadata": {
        "id": "0cLZchOoAgAm",
        "colab": {
          "base_uri": "https://localhost:8080/"
        },
        "outputId": "fac37793-d9ff-43f3-cc78-5b9698e859e6"
      },
      "source": [
        "startYear = 2018\n",
        "endYear = 2021\n",
        "\n",
        "report = ['IncSta' , 'BSheet']\n",
        "name = 'HPG'\n",
        "\n",
        "for category in report:\n",
        "    if (category == 'IncSta'):\n",
        "        output_path = 'Hoạt động kinh doanh/'\n",
        "    else:\n",
        "        output_path = 'Cân đối kế toán/'\n",
        "    if not os.path.exists(output_path):\n",
        "        os.makedirs(output_path)\n",
        "    for year in range(startYear, endYear+1):\n",
        "        quarter = []\n",
        "        data = []\n",
        "        (quarter, data) = scrape_stock_symbols(name, category, str(year))\n",
        "        data_to_csv(quarter, data, str(year), output_path, name, category)\n",
        "print('Done!')"
      ],
      "execution_count": null,
      "outputs": [
        {
          "output_type": "stream",
          "name": "stdout",
          "text": [
            "Done!\n"
          ]
        }
      ]
    },
    {
      "cell_type": "markdown",
      "metadata": {
        "id": "IVdBnKs3HnZf"
      },
      "source": [
        "### Visualize"
      ]
    },
    {
      "cell_type": "code",
      "metadata": {
        "id": "ZRFyoDznAzsL"
      },
      "source": [
        "#Đọc dữ liệu từ các file cần visualize\n",
        "hdkd_2018 = pd.read_csv('/content/Hoạt động kinh doanh/HPG-IncSta-2018.csv', header=0)\n",
        "hdkd_2019 = pd.read_csv('/content/Hoạt động kinh doanh/HPG-IncSta-2019.csv', header=0)\n",
        "hdkd_2020 = pd.read_csv('/content/Hoạt động kinh doanh/HPG-IncSta-2020.csv', header=0)\n",
        "hdkd_2021 = pd.read_csv('/content/Hoạt động kinh doanh/HPG-IncSta-2021.csv', header=0)"
      ],
      "execution_count": null,
      "outputs": []
    },
    {
      "cell_type": "code",
      "metadata": {
        "colab": {
          "base_uri": "https://localhost:8080/",
          "height": 669
        },
        "id": "BT7HGYqbhuvx",
        "outputId": "38f6be23-3c9a-4414-9136-21e105695c92"
      },
      "source": [
        "#Read CSV Hoạt Động Kinh Doanh 2019\n",
        "hdkd_2019"
      ],
      "execution_count": null,
      "outputs": [
        {
          "output_type": "execute_result",
          "data": {
            "text/html": [
              "<div>\n",
              "<style scoped>\n",
              "    .dataframe tbody tr th:only-of-type {\n",
              "        vertical-align: middle;\n",
              "    }\n",
              "\n",
              "    .dataframe tbody tr th {\n",
              "        vertical-align: top;\n",
              "    }\n",
              "\n",
              "    .dataframe thead th {\n",
              "        text-align: right;\n",
              "    }\n",
              "</style>\n",
              "<table border=\"1\" class=\"dataframe\">\n",
              "  <thead>\n",
              "    <tr style=\"text-align: right;\">\n",
              "      <th></th>\n",
              "      <th>Thông số</th>\n",
              "      <th>Quý 1-2019</th>\n",
              "      <th>Quý 2-2019</th>\n",
              "      <th>Quý 3-2019</th>\n",
              "      <th>Quý 4-2019</th>\n",
              "    </tr>\n",
              "  </thead>\n",
              "  <tbody>\n",
              "    <tr>\n",
              "      <th>0</th>\n",
              "      <td>1. Doanh thu bán hàng và cung cấp dịch vụ</td>\n",
              "      <td>15,179,972,721,712</td>\n",
              "      <td>15,330,983,908,774</td>\n",
              "      <td>15,349,518,976,186</td>\n",
              "      <td>18,282,088,440,464</td>\n",
              "    </tr>\n",
              "    <tr>\n",
              "      <th>1</th>\n",
              "      <td>2. Các khoản giảm trừ doanh thu</td>\n",
              "      <td>216,722,214,264</td>\n",
              "      <td>233,718,346,934</td>\n",
              "      <td>262,487,576,044</td>\n",
              "      <td>306,785,764,611</td>\n",
              "    </tr>\n",
              "    <tr>\n",
              "      <th>2</th>\n",
              "      <td>3. Doanh thu thuần về bán hàng và cung cấp dịc...</td>\n",
              "      <td>14,963,250,507,448</td>\n",
              "      <td>15,097,265,561,840</td>\n",
              "      <td>15,087,031,400,142</td>\n",
              "      <td>17,975,302,675,853</td>\n",
              "    </tr>\n",
              "    <tr>\n",
              "      <th>3</th>\n",
              "      <td>4. Giá vốn hàng bán</td>\n",
              "      <td>12,342,336,489,604</td>\n",
              "      <td>12,070,461,588,036</td>\n",
              "      <td>12,385,057,811,865</td>\n",
              "      <td>15,139,622,033,638</td>\n",
              "    </tr>\n",
              "    <tr>\n",
              "      <th>4</th>\n",
              "      <td>5. Lợi nhuận gộp về bán hàng và cung cấp dịch vụ</td>\n",
              "      <td>2,620,914,017,844</td>\n",
              "      <td>3,026,803,973,804</td>\n",
              "      <td>2,701,973,588,277</td>\n",
              "      <td>2,835,680,642,215</td>\n",
              "    </tr>\n",
              "    <tr>\n",
              "      <th>5</th>\n",
              "      <td>6. Doanh thu hoạt động tài chính</td>\n",
              "      <td>91,858,567,531</td>\n",
              "      <td>123,100,591,056</td>\n",
              "      <td>138,550,988,697</td>\n",
              "      <td>122,443,551,198</td>\n",
              "    </tr>\n",
              "    <tr>\n",
              "      <th>6</th>\n",
              "      <td>7. Chi phí tài chính</td>\n",
              "      <td>240,829,520,527</td>\n",
              "      <td>305,054,468,608</td>\n",
              "      <td>328,517,389,602</td>\n",
              "      <td>312,174,332,179</td>\n",
              "    </tr>\n",
              "    <tr>\n",
              "      <th>7</th>\n",
              "      <td>- Trong đó: Chi phí lãi vay</td>\n",
              "      <td>185,199,221,610</td>\n",
              "      <td>215,389,146,860</td>\n",
              "      <td>265,895,204,863</td>\n",
              "      <td>270,226,645,026</td>\n",
              "    </tr>\n",
              "    <tr>\n",
              "      <th>8</th>\n",
              "      <td>9. Chi phí bán hàng</td>\n",
              "      <td>192,602,494,567</td>\n",
              "      <td>269,462,575,465</td>\n",
              "      <td>226,510,475,946</td>\n",
              "      <td>184,758,038,710</td>\n",
              "    </tr>\n",
              "    <tr>\n",
              "      <th>9</th>\n",
              "      <td>10. Chi phí quản lý doanh nghiệp</td>\n",
              "      <td>121,634,447,535</td>\n",
              "      <td>105,833,495,534</td>\n",
              "      <td>150,483,484,286</td>\n",
              "      <td>191,052,158,467</td>\n",
              "    </tr>\n",
              "    <tr>\n",
              "      <th>10</th>\n",
              "      <td>11. Lợi nhuận thuần từ hoạt động kinh doanh</td>\n",
              "      <td>2,157,706,122,746</td>\n",
              "      <td>2,469,554,025,253</td>\n",
              "      <td>2,135,013,227,140</td>\n",
              "      <td>2,268,708,350,442</td>\n",
              "    </tr>\n",
              "    <tr>\n",
              "      <th>11</th>\n",
              "      <td>12. Thu nhập khác</td>\n",
              "      <td>128,120,764,891</td>\n",
              "      <td>159,805,460,096</td>\n",
              "      <td>179,267,698,034</td>\n",
              "      <td>191,951,258,126</td>\n",
              "    </tr>\n",
              "    <tr>\n",
              "      <th>12</th>\n",
              "      <td>13. Chi phí khác</td>\n",
              "      <td>114,886,658,964</td>\n",
              "      <td>149,546,892,759</td>\n",
              "      <td>153,366,194,692</td>\n",
              "      <td>175,662,950,554</td>\n",
              "    </tr>\n",
              "    <tr>\n",
              "      <th>13</th>\n",
              "      <td>14. Lợi nhuận khác</td>\n",
              "      <td>13,234,105,927</td>\n",
              "      <td>10,258,567,337</td>\n",
              "      <td>25,901,503,342</td>\n",
              "      <td>16,288,307,572</td>\n",
              "    </tr>\n",
              "    <tr>\n",
              "      <th>14</th>\n",
              "      <td>15. Tổng lợi nhuận kế toán trước thuế</td>\n",
              "      <td>2,170,940,228,673</td>\n",
              "      <td>2,479,812,592,590</td>\n",
              "      <td>2,160,914,730,482</td>\n",
              "      <td>2,284,996,658,014</td>\n",
              "    </tr>\n",
              "    <tr>\n",
              "      <th>15</th>\n",
              "      <td>16. Chi phí thuế TNDN hiện hành</td>\n",
              "      <td>388,694,004,651</td>\n",
              "      <td>445,462,416,749</td>\n",
              "      <td>397,723,133,076</td>\n",
              "      <td>371,428,377,293</td>\n",
              "    </tr>\n",
              "    <tr>\n",
              "      <th>16</th>\n",
              "      <td>17. Chi phí thuế TNDN hoãn lại</td>\n",
              "      <td>-28,203,565,782</td>\n",
              "      <td>-15,665,475,929</td>\n",
              "      <td>-31,221,367,630</td>\n",
              "      <td>-9,803,630,181</td>\n",
              "    </tr>\n",
              "    <tr>\n",
              "      <th>17</th>\n",
              "      <td>18. Lợi nhuận sau thuế thu nhập doanh nghiệp</td>\n",
              "      <td>1,810,449,789,804</td>\n",
              "      <td>2,050,015,651,770</td>\n",
              "      <td>1,794,412,965,036</td>\n",
              "      <td>1,923,371,910,902</td>\n",
              "    </tr>\n",
              "    <tr>\n",
              "      <th>18</th>\n",
              "      <td>18.1 Lợi ích của cổ đông thiểu số</td>\n",
              "      <td>9,655,547,354</td>\n",
              "      <td>14,821,514,955</td>\n",
              "      <td>39,657,248,095</td>\n",
              "      <td>6,366,073,907</td>\n",
              "    </tr>\n",
              "    <tr>\n",
              "      <th>19</th>\n",
              "      <td>18.2  Lợi nhuận sau thuế của công ty mẹ</td>\n",
              "      <td>1,800,794,242,450</td>\n",
              "      <td>2,035,194,136,815</td>\n",
              "      <td>1,754,755,716,941</td>\n",
              "      <td>1,917,005,836,995</td>\n",
              "    </tr>\n",
              "  </tbody>\n",
              "</table>\n",
              "</div>"
            ],
            "text/plain": [
              "                                             Thông số  ...          Quý 4-2019\n",
              "0           1. Doanh thu bán hàng và cung cấp dịch vụ  ...  18,282,088,440,464\n",
              "1                     2. Các khoản giảm trừ doanh thu  ...     306,785,764,611\n",
              "2   3. Doanh thu thuần về bán hàng và cung cấp dịc...  ...  17,975,302,675,853\n",
              "3                                 4. Giá vốn hàng bán  ...  15,139,622,033,638\n",
              "4    5. Lợi nhuận gộp về bán hàng và cung cấp dịch vụ  ...   2,835,680,642,215\n",
              "5                    6. Doanh thu hoạt động tài chính  ...     122,443,551,198\n",
              "6                                7. Chi phí tài chính  ...     312,174,332,179\n",
              "7                         - Trong đó: Chi phí lãi vay  ...     270,226,645,026\n",
              "8                                 9. Chi phí bán hàng  ...     184,758,038,710\n",
              "9                    10. Chi phí quản lý doanh nghiệp  ...     191,052,158,467\n",
              "10        11. Lợi nhuận thuần từ hoạt động kinh doanh  ...   2,268,708,350,442\n",
              "11                                  12. Thu nhập khác  ...     191,951,258,126\n",
              "12                                   13. Chi phí khác  ...     175,662,950,554\n",
              "13                                 14. Lợi nhuận khác  ...      16,288,307,572\n",
              "14              15. Tổng lợi nhuận kế toán trước thuế  ...   2,284,996,658,014\n",
              "15                    16. Chi phí thuế TNDN hiện hành  ...     371,428,377,293\n",
              "16                     17. Chi phí thuế TNDN hoãn lại  ...      -9,803,630,181\n",
              "17       18. Lợi nhuận sau thuế thu nhập doanh nghiệp  ...   1,923,371,910,902\n",
              "18                  18.1 Lợi ích của cổ đông thiểu số  ...       6,366,073,907\n",
              "19            18.2  Lợi nhuận sau thuế của công ty mẹ  ...   1,917,005,836,995\n",
              "\n",
              "[20 rows x 5 columns]"
            ]
          },
          "metadata": {},
          "execution_count": 6
        }
      ]
    },
    {
      "cell_type": "code",
      "metadata": {
        "colab": {
          "base_uri": "https://localhost:8080/",
          "height": 700
        },
        "id": "8knw8pXmh1Rl",
        "outputId": "0c6bf9d4-723b-40fb-cebd-e6935d16c7f4"
      },
      "source": [
        "#Read CSV Hoạt Động Kinh Doanh 2020\n",
        "hdkd_2020"
      ],
      "execution_count": null,
      "outputs": [
        {
          "output_type": "execute_result",
          "data": {
            "text/html": [
              "<div>\n",
              "<style scoped>\n",
              "    .dataframe tbody tr th:only-of-type {\n",
              "        vertical-align: middle;\n",
              "    }\n",
              "\n",
              "    .dataframe tbody tr th {\n",
              "        vertical-align: top;\n",
              "    }\n",
              "\n",
              "    .dataframe thead th {\n",
              "        text-align: right;\n",
              "    }\n",
              "</style>\n",
              "<table border=\"1\" class=\"dataframe\">\n",
              "  <thead>\n",
              "    <tr style=\"text-align: right;\">\n",
              "      <th></th>\n",
              "      <th>Thông số</th>\n",
              "      <th>Quý 1-2020</th>\n",
              "      <th>Quý 2-2020</th>\n",
              "      <th>Quý 3-2020</th>\n",
              "      <th>Quý 4-2020</th>\n",
              "    </tr>\n",
              "  </thead>\n",
              "  <tbody>\n",
              "    <tr>\n",
              "      <th>0</th>\n",
              "      <td>1. Doanh thu bán hàng và cung cấp dịch vụ</td>\n",
              "      <td>19,451,060,972,271</td>\n",
              "      <td>20,694,235,681,263</td>\n",
              "      <td>24,968,612,501,405</td>\n",
              "      <td>26,165,172,616,887</td>\n",
              "    </tr>\n",
              "    <tr>\n",
              "      <th>1</th>\n",
              "      <td>2. Các khoản giảm trừ doanh thu</td>\n",
              "      <td>218,353,026,228</td>\n",
              "      <td>272,033,734,890</td>\n",
              "      <td>283,050,075,571</td>\n",
              "      <td>387,101,508,420</td>\n",
              "    </tr>\n",
              "    <tr>\n",
              "      <th>2</th>\n",
              "      <td>3. Doanh thu thuần về bán hàng và cung cấp dịc...</td>\n",
              "      <td>19,232,707,946,043</td>\n",
              "      <td>20,422,201,946,373</td>\n",
              "      <td>24,685,562,425,834</td>\n",
              "      <td>25,778,071,108,467</td>\n",
              "    </tr>\n",
              "    <tr>\n",
              "      <th>3</th>\n",
              "      <td>4. Giá vốn hàng bán</td>\n",
              "      <td>15,469,649,574,389</td>\n",
              "      <td>16,716,699,660,689</td>\n",
              "      <td>19,516,497,107,892</td>\n",
              "      <td>19,510,833,657,232</td>\n",
              "    </tr>\n",
              "    <tr>\n",
              "      <th>4</th>\n",
              "      <td>5. Lợi nhuận gộp về bán hàng và cung cấp dịch vụ</td>\n",
              "      <td>3,763,058,371,654</td>\n",
              "      <td>3,705,502,285,684</td>\n",
              "      <td>5,169,065,317,942</td>\n",
              "      <td>6,267,237,451,235</td>\n",
              "    </tr>\n",
              "    <tr>\n",
              "      <th>5</th>\n",
              "      <td>6. Doanh thu hoạt động tài chính</td>\n",
              "      <td>108,979,890,041</td>\n",
              "      <td>395,036,836,210</td>\n",
              "      <td>247,689,080,794</td>\n",
              "      <td>355,499,934,411</td>\n",
              "    </tr>\n",
              "    <tr>\n",
              "      <th>6</th>\n",
              "      <td>7. Chi phí tài chính</td>\n",
              "      <td>823,113,673,484</td>\n",
              "      <td>621,297,893,776</td>\n",
              "      <td>708,511,948,435</td>\n",
              "      <td>786,899,253,782</td>\n",
              "    </tr>\n",
              "    <tr>\n",
              "      <th>7</th>\n",
              "      <td>- Trong đó: Chi phí lãi vay</td>\n",
              "      <td>481,082,874,292</td>\n",
              "      <td>523,373,576,010</td>\n",
              "      <td>540,809,441,828</td>\n",
              "      <td>662,031,175,138</td>\n",
              "    </tr>\n",
              "    <tr>\n",
              "      <th>8</th>\n",
              "      <td>8. Phần lãi lỗ hoặc lỗ trong công ty liên doan...</td>\n",
              "      <td>-2,157,276,978</td>\n",
              "      <td>16,345,909,889</td>\n",
              "      <td>-5,495,008,340</td>\n",
              "      <td>-6,728,992,807</td>\n",
              "    </tr>\n",
              "    <tr>\n",
              "      <th>9</th>\n",
              "      <td>9. Chi phí bán hàng</td>\n",
              "      <td>257,877,328,351</td>\n",
              "      <td>259,293,030,237</td>\n",
              "      <td>294,052,388,783</td>\n",
              "      <td>283,146,891,052</td>\n",
              "    </tr>\n",
              "    <tr>\n",
              "      <th>10</th>\n",
              "      <td>10. Chi phí quản lý doanh nghiệp</td>\n",
              "      <td>153,206,137,477</td>\n",
              "      <td>155,261,261,079</td>\n",
              "      <td>167,706,846,097</td>\n",
              "      <td>214,239,003,023</td>\n",
              "    </tr>\n",
              "    <tr>\n",
              "      <th>11</th>\n",
              "      <td>11. Lợi nhuận thuần từ hoạt động kinh doanh</td>\n",
              "      <td>2,635,683,845,405</td>\n",
              "      <td>3,081,032,846,691</td>\n",
              "      <td>4,240,988,207,081</td>\n",
              "      <td>5,331,723,244,982</td>\n",
              "    </tr>\n",
              "    <tr>\n",
              "      <th>12</th>\n",
              "      <td>12. Thu nhập khác</td>\n",
              "      <td>153,255,313,509</td>\n",
              "      <td>153,423,818,878</td>\n",
              "      <td>174,867,506,767</td>\n",
              "      <td>172,494,695,071</td>\n",
              "    </tr>\n",
              "    <tr>\n",
              "      <th>13</th>\n",
              "      <td>13. Chi phí khác</td>\n",
              "      <td>131,847,938,898</td>\n",
              "      <td>138,735,283,444</td>\n",
              "      <td>143,984,077,820</td>\n",
              "      <td>173,968,642,319</td>\n",
              "    </tr>\n",
              "    <tr>\n",
              "      <th>14</th>\n",
              "      <td>14. Lợi nhuận khác</td>\n",
              "      <td>21,407,374,611</td>\n",
              "      <td>14,688,535,434</td>\n",
              "      <td>30,883,428,947</td>\n",
              "      <td>-1,473,947,248</td>\n",
              "    </tr>\n",
              "    <tr>\n",
              "      <th>15</th>\n",
              "      <td>15. Tổng lợi nhuận kế toán trước thuế</td>\n",
              "      <td>2,657,091,220,016</td>\n",
              "      <td>3,095,721,382,125</td>\n",
              "      <td>4,271,871,636,028</td>\n",
              "      <td>5,330,249,297,734</td>\n",
              "    </tr>\n",
              "    <tr>\n",
              "      <th>16</th>\n",
              "      <td>16. Chi phí thuế TNDN hiện hành</td>\n",
              "      <td>368,205,805,026</td>\n",
              "      <td>368,137,200,148</td>\n",
              "      <td>498,845,055,302</td>\n",
              "      <td>547,344,027,784</td>\n",
              "    </tr>\n",
              "    <tr>\n",
              "      <th>17</th>\n",
              "      <td>17. Chi phí thuế TNDN hoãn lại</td>\n",
              "      <td>-15,875,165,058</td>\n",
              "      <td>-27,977,565,819</td>\n",
              "      <td>-12,096,167,595</td>\n",
              "      <td>122,183,789,401</td>\n",
              "    </tr>\n",
              "    <tr>\n",
              "      <th>18</th>\n",
              "      <td>18. Lợi nhuận sau thuế thu nhập doanh nghiệp</td>\n",
              "      <td>2,304,760,580,048</td>\n",
              "      <td>2,755,561,747,796</td>\n",
              "      <td>3,785,122,748,321</td>\n",
              "      <td>4,660,721,480,549</td>\n",
              "    </tr>\n",
              "    <tr>\n",
              "      <th>19</th>\n",
              "      <td>18.1 Lợi ích của cổ đông thiểu số</td>\n",
              "      <td>19,473,660,886</td>\n",
              "      <td>12,734,824,245</td>\n",
              "      <td>12,415,477,372</td>\n",
              "      <td>22,866,895,252</td>\n",
              "    </tr>\n",
              "    <tr>\n",
              "      <th>20</th>\n",
              "      <td>18.2  Lợi nhuận sau thuế của công ty mẹ</td>\n",
              "      <td>2,285,286,919,162</td>\n",
              "      <td>2,742,826,923,551</td>\n",
              "      <td>3,772,707,270,949</td>\n",
              "      <td>4,637,854,585,297</td>\n",
              "    </tr>\n",
              "  </tbody>\n",
              "</table>\n",
              "</div>"
            ],
            "text/plain": [
              "                                             Thông số  ...          Quý 4-2020\n",
              "0           1. Doanh thu bán hàng và cung cấp dịch vụ  ...  26,165,172,616,887\n",
              "1                     2. Các khoản giảm trừ doanh thu  ...     387,101,508,420\n",
              "2   3. Doanh thu thuần về bán hàng và cung cấp dịc...  ...  25,778,071,108,467\n",
              "3                                 4. Giá vốn hàng bán  ...  19,510,833,657,232\n",
              "4    5. Lợi nhuận gộp về bán hàng và cung cấp dịch vụ  ...   6,267,237,451,235\n",
              "5                    6. Doanh thu hoạt động tài chính  ...     355,499,934,411\n",
              "6                                7. Chi phí tài chính  ...     786,899,253,782\n",
              "7                         - Trong đó: Chi phí lãi vay  ...     662,031,175,138\n",
              "8   8. Phần lãi lỗ hoặc lỗ trong công ty liên doan...  ...      -6,728,992,807\n",
              "9                                 9. Chi phí bán hàng  ...     283,146,891,052\n",
              "10                   10. Chi phí quản lý doanh nghiệp  ...     214,239,003,023\n",
              "11        11. Lợi nhuận thuần từ hoạt động kinh doanh  ...   5,331,723,244,982\n",
              "12                                  12. Thu nhập khác  ...     172,494,695,071\n",
              "13                                   13. Chi phí khác  ...     173,968,642,319\n",
              "14                                 14. Lợi nhuận khác  ...      -1,473,947,248\n",
              "15              15. Tổng lợi nhuận kế toán trước thuế  ...   5,330,249,297,734\n",
              "16                    16. Chi phí thuế TNDN hiện hành  ...     547,344,027,784\n",
              "17                     17. Chi phí thuế TNDN hoãn lại  ...     122,183,789,401\n",
              "18       18. Lợi nhuận sau thuế thu nhập doanh nghiệp  ...   4,660,721,480,549\n",
              "19                  18.1 Lợi ích của cổ đông thiểu số  ...      22,866,895,252\n",
              "20            18.2  Lợi nhuận sau thuế của công ty mẹ  ...   4,637,854,585,297\n",
              "\n",
              "[21 rows x 5 columns]"
            ]
          },
          "metadata": {},
          "execution_count": 7
        }
      ]
    },
    {
      "cell_type": "code",
      "metadata": {
        "id": "9qh2I3yTA1M1"
      },
      "source": [
        "#Xóa lãi lỗ của 2020-2021 (Đưa csv 4 năm về cùng format)\n",
        "hdkd_2020.drop(index=hdkd_2020.index[8], axis=0, inplace=True)\n",
        "hdkd_2021.drop(index=hdkd_2021.index[8], axis=0, inplace=True)"
      ],
      "execution_count": null,
      "outputs": []
    },
    {
      "cell_type": "code",
      "metadata": {
        "id": "18eXm21nA9HH"
      },
      "source": [
        "# Lấy dữ liệu từ Doanh thu bán hàng và cung cấp dịch vụ\n",
        "rev2018 = hdkd_2018[0:].iloc[0][1:]\n",
        "rev2019 = hdkd_2019[0:].iloc[0][1:]\n",
        "rev2020 = hdkd_2020[0:].iloc[0][1:]\n",
        "rev2021 = hdkd_2021[0:].iloc[0][1:]\n",
        "\n",
        "# Lấy dữ liệu từ Lợi nhuận sau thuế thu nhập doanh nghiệp\n",
        "pro2018 = hdkd_2018[1:].iloc[16][1:]\n",
        "pro2019 = hdkd_2019[1:].iloc[16][1:]\n",
        "pro2020 = hdkd_2020[1:].iloc[16][1:]\n",
        "pro2021 = hdkd_2021[1:].iloc[16][1:]\n",
        "\n",
        "#pro dùng để hợp nhất các dữ liệu lợi nhuận của các năm\n",
        "pro = [pro2018,pro2019,pro2020,pro2021]\n",
        "pro = pd.concat(pro)\n",
        "\n",
        "#rev dùng để hợp nhất các dữ liệu doanh thu của các năm\n",
        "rev = [rev2018,rev2019,rev2020,rev2021]\n",
        "rev = pd.concat(rev)"
      ],
      "execution_count": null,
      "outputs": []
    },
    {
      "cell_type": "code",
      "metadata": {
        "id": "c7ha2Xd0A-bz"
      },
      "source": [
        "pro_values = []\n",
        "for i in pro.values:\n",
        "  new = i.replace(',', '')\n",
        "  pro_values.append(int(new))\n",
        "  \n",
        "rev_values = []\n",
        "for i in rev.values:\n",
        "  new = i.replace(',', '')\n",
        "  rev_values.append(int(new))"
      ],
      "execution_count": null,
      "outputs": []
    },
    {
      "cell_type": "code",
      "metadata": {
        "id": "0-HEc71oTdU6"
      },
      "source": [
        "# Hàm lấy label từ số liệu\n",
        "def addlabels (x,y):\n",
        "    for i in range(len(x)):\n",
        "      plt.text(i,y[i],y[i],horizontalalignment='center', verticalalignment='bottom',fontsize=10)"
      ],
      "execution_count": null,
      "outputs": []
    },
    {
      "cell_type": "code",
      "metadata": {
        "colab": {
          "base_uri": "https://localhost:8080/",
          "height": 627
        },
        "id": "N7URZE3eA_1M",
        "outputId": "51248918-f9a9-435f-f3c1-de355e08263b"
      },
      "source": [
        "plt.figure(figsize=(20, 10))\n",
        "plt.bar(rev.keys(),rev_values)\n",
        "addlabels(rev.keys(), rev_values)\n",
        "plt.legend(['Doanh Thu'],loc=2)\n",
        "plt.twinx()\n",
        "plt.plot(pro.keys(), pro_values, color='y', marker='o')\n",
        "addlabels(pro.keys(), pro_values)\n",
        "plt.legend(['Lợi Nhuận Sau Thuế'],loc=1)\n",
        "plt.title('KẾT QUẢ HOẠT ĐỘNG KINH DOANH\\n(Đvị:tỷ đồng)')\n",
        "plt.show()"
      ],
      "execution_count": null,
      "outputs": [
        {
          "output_type": "display_data",
          "data": {
            "image/png": "[encoded data removed]",
            "text/plain": [
              "<Figure size 1440x720 with 2 Axes>"
            ]
          },
          "metadata": {
            "needs_background": "light"
          }
        }
      ]
    },
    {
      "cell_type": "markdown",
      "metadata": {
        "id": "GStxEUj3LFL3"
      },
      "source": [
        "## **3. Implement the crawling task**"
      ]
    },
    {
      "cell_type": "markdown",
      "metadata": {
        "id": "IxzSoeXOLTYJ"
      },
      "source": [
        "### Visualize"
      ]
    },
    {
      "cell_type": "code",
      "metadata": {
        "colab": {
          "base_uri": "https://localhost:8080/"
        },
        "id": "TECTJg6sLh2N",
        "outputId": "413be8ad-8d8e-4099-98cc-f1a4fbe75643"
      },
      "source": [
        "cdkt_2021 = pd.read_csv('/content/Cân đối kế toán/HPG-BSheet-2021.csv', error_bad_lines=False)\n",
        "cdkt_2020 = pd.read_csv('/content/Cân đối kế toán/HPG-BSheet-2020.csv', error_bad_lines=False)\n",
        "cdkt_2019 = pd.read_csv('/content/Cân đối kế toán/HPG-BSheet-2019.csv', error_bad_lines=False)\n",
        "cdkt_2018 = pd.read_csv('/content/Cân đối kế toán/HPG-BSheet-2018.csv', error_bad_lines=False)"
      ],
      "execution_count": null,
      "outputs": [
        {
          "output_type": "stream",
          "name": "stderr",
          "text": [
            "b'Skipping line 3: expected 4 fields, saw 8\\n'\n",
            "b'Skipping line 3: expected 5 fields, saw 10\\n'\n",
            "b'Skipping line 3: expected 5 fields, saw 10\\n'\n",
            "b'Skipping line 3: expected 5 fields, saw 10\\n'\n"
          ]
        }
      ]
    },
    {
      "cell_type": "code",
      "metadata": {
        "id": "OXUNMVa8Llkv"
      },
      "source": [
        "#Lấy dữ liệu Tiền và các khoản tương đương tiền\n",
        "data1_2018 = cdkt_2018[0:].iloc[1][1:]\n",
        "data1_2019 = cdkt_2019[0:].iloc[1][1:]\n",
        "data1_2020 = cdkt_2020[0:].iloc[1][1:]\n",
        "data1_2021 = cdkt_2021[0:].iloc[1][1:]\n",
        "\n",
        "#data1 dùng để hợp nhất các dữ liệu Tiền và các khoản tương đương tiền\n",
        "data1 = [data1_2018,data1_2019,data1_2020,data1_2021]\n",
        "data1 = pd.concat(data1)\n",
        "data1_values = []\n",
        "for i in data1.values:\n",
        "  new = i.replace(',', '')\n",
        "  data1_values.append(int(new))\n",
        "\n",
        "#Lấy dữ liệu Các khoản đầu tư tài chính ngắn hạn\n",
        "data2_2018 = cdkt_2018[0:].iloc[2][1:]\n",
        "data2_2019 = cdkt_2019[0:].iloc[2][1:]\n",
        "data2_2020 = cdkt_2020[0:].iloc[2][1:]\n",
        "data2_2021 = cdkt_2021[0:].iloc[2][1:]\n",
        "\n",
        "#data2 dùng để hợp nhất Các khoản đầu tư tài chính ngắn hạn\n",
        "data2 = [data2_2018,data2_2019,data2_2020,data2_2021]\n",
        "data2 = pd.concat(data2)\n",
        "data2_values = []\n",
        "for i in data2.values:\n",
        "  new = i.replace(',', '')\n",
        "  data2_values.append(int(new))\n",
        "\n",
        "#Lấy dữ liệu Các khoản Các khoản phải thu ngắn hạn\n",
        "data3_2018 = cdkt_2018[0:].iloc[4][1:]\n",
        "data3_2019 = cdkt_2019[0:].iloc[4][1:]\n",
        "data3_2020 = cdkt_2020[0:].iloc[4][1:]\n",
        "data3_2021 = cdkt_2021[0:].iloc[4][1:]\n",
        "\n",
        "#data3 dùng để hợp nhất  Các khoản Các khoản phải thu ngắn hạn\n",
        "data3 = [data3_2018,data3_2019,data3_2020,data3_2021]\n",
        "data3 = pd.concat(data3)\n",
        "data3_values = []\n",
        "for i in data3.values:\n",
        "  new = i.replace(',', '')\n",
        "  data3_values.append(int(new))\n",
        "\n",
        "#Lấy dữ liệu Hàng tồn kho\n",
        "data4_2018 = cdkt_2018[0:].iloc[10][1:]\n",
        "data4_2019 = cdkt_2019[0:].iloc[10][1:]\n",
        "data4_2020 = cdkt_2020[0:].iloc[10][1:]\n",
        "data4_2021 = cdkt_2021[0:].iloc[10][1:]\n",
        "\n",
        "#data4 dùng để hợp nhất Hàng tồn kho\n",
        "data4 = [data4_2018,data4_2019,data4_2020,data4_2021]\n",
        "data4 = pd.concat(data4)\n",
        "data4_values = []\n",
        "for i in data4.values:\n",
        "  new = i.replace(',', '')\n",
        "  data4_values.append(int(new))\n",
        "\n",
        "#Lấy dữ liệu Tài sản ngắn hạn khác\n",
        "data5_2018 = cdkt_2018[0:].iloc[13][1:]\n",
        "data5_2019 = cdkt_2019[0:].iloc[13][1:]\n",
        "data5_2020 = cdkt_2020[0:].iloc[13][1:]\n",
        "data5_2021 = cdkt_2021[0:].iloc[13][1:]\n",
        "\n",
        "#data5 dùng để hợp nhất Tài sản ngắn hạn khác\n",
        "data5 = [data5_2018,data5_2019,data5_2020,data5_2021]\n",
        "data5 = pd.concat(data5)\n",
        "data5_values = []\n",
        "for i in data5.values:\n",
        "  new = i.replace(',', '')\n",
        "  data5_values.append(int(new))\n"
      ],
      "execution_count": null,
      "outputs": []
    },
    {
      "cell_type": "code",
      "metadata": {
        "colab": {
          "base_uri": "https://localhost:8080/",
          "height": 610
        },
        "id": "8lG-HaGTLpsr",
        "outputId": "d99cbbae-d392-45be-cda2-a109e567cee8"
      },
      "source": [
        "plt.figure(figsize=(20, 10))\n",
        "\n",
        "plt.bar(data4.keys(),data4_values,color='tab:purple')\n",
        "plt.bar(data1.keys(),data1_values,color='tab:brown')\n",
        "plt.bar(data2.keys(),data2_values,color='tab:green')\n",
        "plt.bar(data3.keys(),data3_values,color='tab:blue')\n",
        "plt.bar(data5.keys(),data5_values,color='tab:olive')\n",
        "\n",
        "plt.title('CƠ CẤU TỔNG TÀI SẢN NGẮN HẠN')\n",
        "plt.legend(['Hàng tồn kho', 'Tiền và các khoản tương đương tiền', 'Các khoản đầu tư tài chính ngắn hạn','Các khoản phải thu ngắn hạn','Tài sản ngắn hạn khác'])\n",
        "plt.show()"
      ],
      "execution_count": null,
      "outputs": [
        {
          "output_type": "display_data",
          "data": {
            "image/png": "[encoded data removed]",
            "text/plain": [
              "<Figure size 1440x720 with 1 Axes>"
            ]
          },
          "metadata": {
            "needs_background": "light"
          }
        }
      ]
    },
    {
      "cell_type": "code",
      "metadata": {
        "id": "JzX2dn8GCGqB"
      },
      "source": [
        "#Lấy dữ liệu Các khoản phải thu dài hạn\n",
        "data1_2018 = cdkt_2018[0:].iloc[18][1:]\n",
        "data1_2019 = cdkt_2019[0:].iloc[18][1:]\n",
        "data1_2020 = cdkt_2020[0:].iloc[18][1:]\n",
        "data1_2021 = cdkt_2021[0:].iloc[18][1:]\n",
        "\n",
        "#data1 dùng để hợp nhất các dữ liệu Các khoản phải thu dài hạn\n",
        "data1 = [data1_2018,data1_2019,data1_2020,data1_2021]\n",
        "data1 = pd.concat(data1)\n",
        "data1_values = []\n",
        "for i in data1.values:\n",
        "  new = i.replace(',', '')\n",
        "  data1_values.append(int(new))\n",
        "\n",
        "#Lấy dữ liệu Tài sản cố định\n",
        "data2_2018 = cdkt_2018[0:].iloc[21][1:]\n",
        "data2_2019 = cdkt_2019[0:].iloc[21][1:]\n",
        "data2_2020 = cdkt_2020[0:].iloc[21][1:]\n",
        "data2_2021 = cdkt_2021[0:].iloc[21][1:]\n",
        "\n",
        "#data2 dùng để hợp nhất Tài sản cố định\n",
        "data2 = [data2_2018,data2_2019,data2_2020,data2_2021]\n",
        "data2 = pd.concat(data2)\n",
        "data2_values = []\n",
        "for i in data2.values:\n",
        "  new = i.replace(',', '')\n",
        "  data2_values.append(int(new))\n",
        "\n",
        "#Lấy dữ liệu Bất động sản đầu tư\n",
        "data3_2018 = cdkt_2018[0:].iloc[28][1:]\n",
        "data3_2019 = cdkt_2019[0:].iloc[28][1:]\n",
        "data3_2020 = cdkt_2020[0:].iloc[28][1:]\n",
        "data3_2021 = cdkt_2021[0:].iloc[28][1:]\n",
        "\n",
        "#data3 dùng để hợp nhất Bất động sản đầu tư\n",
        "data3 = [data3_2018,data3_2019,data3_2020,data3_2021]\n",
        "data3 = pd.concat(data3)\n",
        "data3_values = []\n",
        "for i in data3.values:\n",
        "  new = i.replace(',', '')\n",
        "  data3_values.append(int(new))\n",
        "\n",
        "#Lấy dữ liệu Tài sản dở dang dài hạn\n",
        "data4_2018 = cdkt_2018[0:].iloc[31][1:]\n",
        "data4_2019 = cdkt_2019[0:].iloc[31][1:]\n",
        "data4_2020 = cdkt_2020[0:].iloc[31][1:]\n",
        "data4_2021 = cdkt_2021[0:].iloc[31][1:]\n",
        "\n",
        "#data4 dùng để hợp nhất Tài sản dở dang dài hạn\n",
        "data4 = [data4_2018,data4_2019,data4_2020,data4_2021]\n",
        "data4 = pd.concat(data4)\n",
        "data4_values = []\n",
        "for i in data4.values:\n",
        "  new = i.replace(',', '')\n",
        "  data4_values.append(int(new))\n",
        "\n",
        "#Lấy dữ liệu Đầu tư tài chính dài hạn\n",
        "data5_2018 = cdkt_2018[0:].iloc[34][1:]\n",
        "data5_2019 = cdkt_2019[0:].iloc[34][1:]\n",
        "data5_2020 = cdkt_2020[0:].iloc[34][1:]\n",
        "data5_2021 = cdkt_2021[0:].iloc[34][1:]\n",
        "\n",
        "#data5 dùng để hợp nhất Đầu tư tài chính dài hạn\n",
        "data5 = [data5_2018,data5_2019,data5_2020,data5_2021]\n",
        "data5 = pd.concat(data5)\n",
        "data5_values = []\n",
        "for i in data5.values:\n",
        "  new = i.replace(',', '')\n",
        "  data5_values.append(int(new))\n",
        "\n",
        "#Lấy dữ liệu Tài sản dài hạn khác\n",
        "data6_2018 = cdkt_2018[0:].iloc[38][1:]\n",
        "data6_2019 = cdkt_2019[0:].iloc[38][1:]\n",
        "data6_2020 = cdkt_2020[0:].iloc[38][1:]\n",
        "data6_2021 = cdkt_2021[0:].iloc[38][1:]\n",
        "\n",
        "#data5 dùng để hợp nhất Tài sản dài hạn khác\n",
        "data6 = [data6_2018,data6_2019,data6_2020,data6_2021]\n",
        "data6 = pd.concat(data6)\n",
        "data6_values = []\n",
        "for i in data6.values:\n",
        "  new = i.replace(',', '')\n",
        "  data6_values.append(int(new))"
      ],
      "execution_count": null,
      "outputs": []
    },
    {
      "cell_type": "code",
      "metadata": {
        "colab": {
          "base_uri": "https://localhost:8080/",
          "height": 610
        },
        "id": "A0aPEQkGC3vi",
        "outputId": "43203f30-654c-4d8e-d2f4-c00d07e3103b"
      },
      "source": [
        "plt.figure(figsize=(20, 10))\n",
        "\n",
        "plt.bar(data2.keys(),data2_values,color='tab:green')\n",
        "plt.bar(data4.keys(),data4_values,color='tab:purple')\n",
        "plt.bar(data6.keys(),data6_values,color='tab:cyan')\n",
        "plt.bar(data3.keys(),data3_values,color='tab:blue')\n",
        "plt.bar(data1.keys(),data1_values,color='tab:brown')\n",
        "plt.bar(data5.keys(),data5_values,color='tab:olive')\n",
        "\n",
        "plt.title('CƠ CẤU TỔNG TÀI SẢN DÀI HẠN')\n",
        "plt.legend(['Tài sản cố định',\n",
        "            'Tài sản dở dang dài hạn',\n",
        "            'Tài sản dài hạn khác',\n",
        "            'Bất động sản đầu tư',\n",
        "            'Các khoản phải thu dài hạn',\n",
        "            'Đầu tư tài chính dài hạn'])\n",
        "plt.show()"
      ],
      "execution_count": null,
      "outputs": [
        {
          "output_type": "display_data",
          "data": {
            "image/png": "[encoded data removed]",
            "text/plain": [
              "<Figure size 1440x720 with 1 Axes>"
            ]
          },
          "metadata": {
            "needs_background": "light"
          }
        }
      ]
    }
  ]
}
